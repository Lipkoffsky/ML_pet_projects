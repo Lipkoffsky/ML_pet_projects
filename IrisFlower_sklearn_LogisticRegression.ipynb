{
  "nbformat": 4,
  "nbformat_minor": 0,
  "metadata": {
    "colab": {
      "name": "IrisFlower_sklearn_LogisticRegression.ipynb",
      "provenance": [],
      "collapsed_sections": [],
      "authorship_tag": "ABX9TyMzIVIgGwOKyB58RNLVA1Ht",
      "include_colab_link": true
    },
    "kernelspec": {
      "name": "python3",
      "display_name": "Python 3"
    }
  },
  "cells": [
    {
      "cell_type": "markdown",
      "metadata": {
        "id": "view-in-github",
        "colab_type": "text"
      },
      "source": [
        "<a href=\"https://colab.research.google.com/github/Lipkoffsky/ML_pet_projects/blob/main/IrisFlower_sklearn_LogisticRegression.ipynb\" target=\"_parent\"><img src=\"https://colab.research.google.com/assets/colab-badge.svg\" alt=\"Open In Colab\"/></a>"
      ]
    },
    {
      "cell_type": "markdown",
      "metadata": {
        "id": "7bpJxrbopNAE"
      },
      "source": [
        "## **Подготовка данных**\n",
        "\n"
      ]
    },
    {
      "cell_type": "markdown",
      "metadata": {
        "id": "Bfi8pgGwpFJ3"
      },
      "source": [
        "Загружаем датасет Ирисы Фишера из библиотеки scikit-learn Для визуализации возьмем в матрицу признаков X только два признака: длину и ширину лепестка\n",
        "\n",
        "Целевые значения запишем в вектор y"
      ]
    },
    {
      "cell_type": "code",
      "metadata": {
        "id": "BAeZrQi7o7A_"
      },
      "source": [
        "from sklearn import datasets\n",
        "import numpy as np\n",
        "\n",
        "iris = datasets.load_iris()\n",
        "X = iris.data[:, [2, 3]] # Берем только длину и ширину лепестка\n",
        "y = iris.target # целевые значения - класс цветка"
      ],
      "execution_count": 1,
      "outputs": []
    },
    {
      "cell_type": "code",
      "metadata": {
        "id": "4XOcKEl6rIOg"
      },
      "source": [
        ""
      ],
      "execution_count": null,
      "outputs": []
    },
    {
      "cell_type": "markdown",
      "metadata": {
        "id": "0DJh_BcypJDx"
      },
      "source": [
        "Разделим датасет на тренировочную и тестовую выборки с помощью фукнции train_test_split из библиотеки sklearn\n",
        "\n",
        "Размер тестовой выборки - 30%\n",
        "\n",
        "Размер тренировочной - 70%"
      ]
    },
    {
      "cell_type": "code",
      "metadata": {
        "id": "NJ3tp2B7pCNN"
      },
      "source": [
        "#Разделяем наш датасет на тестовую и тренировочную части\n",
        "from sklearn.model_selection import train_test_split\n",
        "X_train, X_test, y_train, y_test = train_test_split(\n",
        "                                    X, y, test_size=0.3, random_state=0)"
      ],
      "execution_count": 2,
      "outputs": []
    },
    {
      "cell_type": "markdown",
      "metadata": {
        "id": "3Zn8t68IphAQ"
      },
      "source": [
        "# Стандартизация\n",
        "\n",
        "Стандартизируем данные с помощью класса StandardScaler из модуля preprocessing библиотеки scikit-learn"
      ]
    },
    {
      "cell_type": "code",
      "metadata": {
        "id": "RVP52rw2ph9w"
      },
      "source": [
        "from sklearn.preprocessing import StandardScaler\n",
        "sc = StandardScaler()\n",
        "sc.fit(X_train) # вычисляем эмпирическое среднее и стандартное отклонение\n",
        "X_train_std = sc.transform(X_train)\n",
        "X_test_std = sc.transform(X_test)"
      ],
      "execution_count": 3,
      "outputs": []
    },
    {
      "cell_type": "markdown",
      "metadata": {
        "id": "0TRLvEatqjoL"
      },
      "source": [
        "# Функция для отображения областей решения"
      ]
    },
    {
      "cell_type": "code",
      "metadata": {
        "id": "Hiq16Qe0qj7H"
      },
      "source": [
        "from matplotlib.colors import ListedColormap\n",
        "\n",
        "def plot_decision_regions(X, y, classifier, test_idx=None, resolution=0.02):\n",
        "    '''Отобразить границы решений для двумерных наборов данных'''\n",
        "\n",
        "    # Настройка генератора маркеров и палитры\n",
        "    markers = ('s', 'x', 'o', '^', 'v')\n",
        "    colors = ('red', 'blue', 'lightgreen', 'purple', 'cyan')\n",
        "    cmap = ListedColormap(colors[:len(np.unique(y))])\n",
        "\n",
        "    # Вывод поверхности решения\n",
        "    x1_min, x1_max = X[:, 0].min()-1, X[:, 0].max()+1\n",
        "    x2_min, x2_max = X[:, 1].min()-1, X[:, 1].max()+1\n",
        "    xx1, xx2 = np.meshgrid(np.arange(x1_min, x1_max, resolution)\n",
        "                          ,np.arange(x2_min, x2_max, resolution))\n",
        "    Z = classifier.predict(np.array([xx1.ravel(), xx2.ravel()]).T)\n",
        "    Z = Z.reshape(xx1.shape)\n",
        "\n",
        "    plt.contourf(xx1, xx2, Z, alpha=0.4, cmap=cmap)\n",
        "    plt.xlim(xx1.min(), xx1.max())\n",
        "    plt.ylim(xx2.min(), xx2.max())\n",
        "\n",
        "        # выделить тестовые образы\n",
        "    if test_idx:\n",
        "        X_test, y_test = X[test_idx, :], y[test_idx]\n",
        "        plt.scatter(X_test[:, 0], X_test[:, 1], c='black'\n",
        "                        , alpha=1.0, linewidths=1, marker='o'\n",
        "                        , s=55, label='тестовый набор')\n",
        "    # показать образцы классов\n",
        "    for idx, cl in enumerate(np.unique(y)):\n",
        "        plt.scatter(x=X[y == cl, 0], y=X[y == cl, 1]\n",
        "                   ,alpha=0.8, c=cmap(idx)\n",
        "                   ,marker=markers[idx], label=cl)"
      ],
      "execution_count": 4,
      "outputs": []
    },
    {
      "cell_type": "markdown",
      "metadata": {
        "id": "5Oa70QNJpVTe"
      },
      "source": [
        "# Тренировка логистической регрессии"
      ]
    },
    {
      "cell_type": "code",
      "metadata": {
        "colab": {
          "base_uri": "https://localhost:8080/",
          "height": 352
        },
        "id": "6c5rGZmLpcRI",
        "outputId": "97435f25-80b5-4d3b-bc41-2f4043ee51c5"
      },
      "source": [
        "from sklearn.linear_model import LogisticRegression\n",
        "import matplotlib.pyplot as plt\n",
        "\n",
        "X_combined_std = np.vstack((X_train_std, X_test_std))\n",
        "y_combined_std = np.hstack((y_train, y_test))\n",
        "\n",
        "lr = LogisticRegression(C=1000.0, random_state=0)\n",
        "lr.fit(X_train_std, y_train)\n",
        "\n",
        "plot_decision_regions(X_combined_std, y_combined_std\n",
        "                      , classifier=lr, test_idx=range(105,150))\n",
        "plt.xlabel('длина лепестка (стандартизованная)')\n",
        "plt.ylabel('ширина лепестка (стандартизованная)')\n",
        "plt.legend(loc='upper left')\n",
        "plt.show()"
      ],
      "execution_count": 7,
      "outputs": [
        {
          "output_type": "stream",
          "text": [
            "*c* argument looks like a single numeric RGB or RGBA sequence, which should be avoided as value-mapping will have precedence in case its length matches with *x* & *y*.  Please use the *color* keyword-argument or provide a 2-D array with a single row if you intend to specify the same RGB or RGBA value for all points.\n",
            "*c* argument looks like a single numeric RGB or RGBA sequence, which should be avoided as value-mapping will have precedence in case its length matches with *x* & *y*.  Please use the *color* keyword-argument or provide a 2-D array with a single row if you intend to specify the same RGB or RGBA value for all points.\n",
            "*c* argument looks like a single numeric RGB or RGBA sequence, which should be avoided as value-mapping will have precedence in case its length matches with *x* & *y*.  Please use the *color* keyword-argument or provide a 2-D array with a single row if you intend to specify the same RGB or RGBA value for all points.\n"
          ],
          "name": "stderr"
        },
        {
          "output_type": "display_data",
          "data": {
            "image/png": "[encoded data removed]",
            "text/plain": [
              "<Figure size 432x288 with 1 Axes>"
            ]
          },
          "metadata": {
            "tags": [],
            "needs_background": "light"
          }
        }
      ]
    },
    {
      "cell_type": "code",
      "metadata": {
        "id": "quFcMRbXr8Ff"
      },
      "source": [
        ""
      ],
      "execution_count": null,
      "outputs": []
    }
  ]
}