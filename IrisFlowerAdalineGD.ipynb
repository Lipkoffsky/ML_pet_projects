{
  "nbformat": 4,
  "nbformat_minor": 0,
  "metadata": {
    "colab": {
      "name": "IrisFlowerAdalineGD.ipynb",
      "provenance": [],
      "collapsed_sections": [],
      "authorship_tag": "ABX9TyNAr3eDKrwxjA76ZVQLUibm",
      "include_colab_link": true
    },
    "kernelspec": {
      "name": "python3",
      "display_name": "Python 3"
    }
  },
  "cells": [
    {
      "cell_type": "markdown",
      "metadata": {
        "id": "view-in-github",
        "colab_type": "text"
      },
      "source": [
        "<a href=\"https://colab.research.google.com/github/Lipkoffsky/ML_pet_projects/blob/main/IrisFlowerAdalineGD.ipynb\" target=\"_parent\"><img src=\"https://colab.research.google.com/assets/colab-badge.svg\" alt=\"Open In Colab\"/></a>"
      ]
    },
    {
      "cell_type": "markdown",
      "metadata": {
        "id": "bbXhPc_u4R4T"
      },
      "source": [
        "# **Импорт датасета Ирисы Фишера**"
      ]
    },
    {
      "cell_type": "code",
      "metadata": {
        "id": "HrPscm-a4HaW"
      },
      "source": [
        "import pandas as pd\n",
        "url = 'https://archive.ics.uci.edu/ml/machine-learning-databases/iris/iris.data'\n",
        "df = pd.read_csv(url, header=None)"
      ],
      "execution_count": 1,
      "outputs": []
    },
    {
      "cell_type": "markdown",
      "metadata": {
        "id": "LtrGwD6R4Vc7"
      },
      "source": [
        "# Реализация ADALINE\n"
      ]
    },
    {
      "cell_type": "code",
      "metadata": {
        "id": "fsZN9ANq4bQo"
      },
      "source": [
        "class AdalineGD(object):\n",
        "    \"\"\"Классификатор на основе ADALINE\n",
        "\n",
        "    Параметры\n",
        "    ---------\n",
        "    eta : float\n",
        "        темп обучения между 0.0 и 1.0\n",
        "    n_iter : int\n",
        "\n",
        "    Атрибуты\n",
        "    --------\n",
        "    w_ : array(n_weights)\n",
        "        Веса после подгонки\n",
        "    errors_ : list\n",
        "        Число случаев ошибочной классификации в каждой эпохе\n",
        "    \n",
        "    \"\"\"\n",
        "\n",
        "    def __init__(self, eta=0.01, n_iter=50):\n",
        "        self.eta = eta\n",
        "        self.n_iter = n_iter\n",
        "\n",
        "    def fit(self, X, y):\n",
        "        \"\"\" Выполнить подгонку под тренировочные данные\n",
        "\n",
        "        Параметры\n",
        "        ---------\n",
        "        X : array(n_samples, n_features)\n",
        "            Тренировочные векторы, где \n",
        "            n_samples - число образцов\n",
        "            n_features - число признаков\n",
        "        y : array(n_samples)\n",
        "            Целевые значения\n",
        "\n",
        "        Return\n",
        "        ------\n",
        "        self : object\n",
        "\n",
        "        \"\"\"\n",
        "\n",
        "        # Инициализация весов и погрешностей\n",
        "        self.w_ = np.zeros(1 + X.shape[1])\n",
        "        self.cost_ = []\n",
        "\n",
        "        for i in range(self.n_iter):\n",
        "            output = self.net_input(X)\n",
        "            errors = (y - output)\n",
        "            self.w_[1:] += self.eta * X.T.dot(errors)\n",
        "            self.w_[0] += self.eta * errors.sum()\n",
        "            cost = (errors**2).sum() / 2.0\n",
        "            self.cost_.append(cost)\n",
        "        return self\n",
        "\n",
        "    def net_input(self, X):\n",
        "        \"\"\"Рассчитать чистый вход\"\"\"\n",
        "        return np.dot(X, self.w_[1:]) + self.w_[0]\n",
        "\n",
        "    def activation(self, X):\n",
        "        \"\"\"Рассчитать линейную активацию\"\"\"\n",
        "        return self.net_input(X)\n",
        "\n",
        "    def predict(self, X):\n",
        "        \"\"\"Вернуть метку класса после единичного скачка\"\"\"\n",
        "        return np.where(self.activation(X) >= 0.0, 1, -1)\n"
      ],
      "execution_count": 25,
      "outputs": []
    },
    {
      "cell_type": "markdown",
      "metadata": {
        "id": "kTMF91-BDDRO"
      },
      "source": [
        "# Вспомогательная функция для отображения зон распределения"
      ]
    },
    {
      "cell_type": "code",
      "metadata": {
        "id": "FjgWeJejC9Ki"
      },
      "source": [
        "from matplotlib.colors import ListedColormap\n",
        "\n",
        "def plot_decision_regions(X, y, classifier, resolution=0.02):\n",
        "    '''Отобразить границы решений для двумерных наборов данных'''\n",
        "\n",
        "    # Настройка генератора маркеров и палитры\n",
        "    markers = ('s', 'x', 'o', '^', 'v')\n",
        "    colors = ('red', 'blue', 'lightgreen', 'gray', 'cyan')\n",
        "    cmap = ListedColormap(colors[:len(np.unique(y))])\n",
        "\n",
        "    # Вывод поверхности решения\n",
        "    x1_min, x1_max = X[:, 0].min()-1, X[:, 0].max()+1\n",
        "    x2_min, x2_max = X[:, 1].min()-1, X[:, 1].max()+1\n",
        "    xx1, xx2 = np.meshgrid(np.arange(x1_min, x1_max, resolution)\n",
        "                          ,np.arange(x2_min, x2_max, resolution))\n",
        "    Z = classifier.predict(np.array([xx1.ravel(), xx2.ravel()]).T)\n",
        "    Z = Z.reshape(xx1.shape)\n",
        "\n",
        "    plt.contourf(xx1, xx2, Z, alpha=0.4, cmap=cmap)\n",
        "    plt.xlim(xx1.min(), xx1.max())\n",
        "    plt.ylim(xx2.min(), xx2.max())\n",
        "\n",
        "    # показать образцы классов\n",
        "    for idx, cl in enumerate(np.unique(y)):\n",
        "        plt.scatter(x=X[y == cl, 0], y=X[y == cl, 1]\n",
        "                   ,alpha=0.8, c=cmap(idx)\n",
        "                   ,marker=markers[idx], label=cl)"
      ],
      "execution_count": 26,
      "outputs": []
    },
    {
      "cell_type": "markdown",
      "metadata": {
        "id": "G47FzxGsDvwf"
      },
      "source": [
        "# Настройка тренировочного датасета"
      ]
    },
    {
      "cell_type": "code",
      "metadata": {
        "id": "MO1jioxoD_QX"
      },
      "source": [
        "import matplotlib.pyplot as plt\n",
        "import numpy as np"
      ],
      "execution_count": 27,
      "outputs": []
    },
    {
      "cell_type": "code",
      "metadata": {
        "colab": {
          "base_uri": "https://localhost:8080/",
          "height": 279
        },
        "id": "TFGB1kzIDwhO",
        "outputId": "6b6b8153-9170-40d4-8ae4-a7bb4adacad9"
      },
      "source": [
        "y = df.iloc[0:100, 4].values\n",
        "y = np.where(y == 'Iris-setosa', -1, 1)\n",
        "X = df.iloc[0:100, [0, 2]].values\n",
        "\n",
        "plt.scatter(X[:50, 0], X[:50, 1], color='red'\n",
        "            , marker='o', label='Щетинистый')\n",
        "plt.scatter(X[50:100, 0], X[50:100, 1], color='green'\n",
        "            , marker='x', label='Разноцветный')\n",
        "plt.xlabel('длина чашелистика')\n",
        "plt.ylabel('длина лепестка')\n",
        "plt.legend(loc='upper left')\n",
        "plt.show()"
      ],
      "execution_count": 28,
      "outputs": [
        {
          "output_type": "display_data",
          "data": {
            "image/png": "[encoded data removed]",
            "text/plain": [
              "<Figure size 432x288 with 1 Axes>"
            ]
          },
          "metadata": {
            "tags": [],
            "needs_background": "light"
          }
        }
      ]
    },
    {
      "cell_type": "markdown",
      "metadata": {
        "id": "toJ3ZZeCGhLf"
      },
      "source": [
        "# Построение графиков"
      ]
    },
    {
      "cell_type": "code",
      "metadata": {
        "id": "ictL7iBTBOok"
      },
      "source": [
        "# Стандартизируем значения данных\n",
        "X_std = np.copy(X)\n",
        "X_std[:, 0] = (X[:, 0] - X[:, 0].mean()) / X[:, 0].std()\n",
        "X_std[:, 1] = (X[:, 1] - X[:, 1].mean()) / X[:, 1].std()\n"
      ],
      "execution_count": 29,
      "outputs": []
    },
    {
      "cell_type": "code",
      "metadata": {
        "colab": {
          "base_uri": "https://localhost:8080/",
          "height": 611
        },
        "id": "MqIk8gEJB3uA",
        "outputId": "8d761b61-346f-400e-ab0f-32b616d4f120"
      },
      "source": [
        "ada = AdalineGD(n_iter=15, eta=0.01)\n",
        "ada.fit(X_std, y)\n",
        "plot_decision_regions(X_std, y, classifier=ada)\n",
        "plt.title('ADALINE градиентный спуск')\n",
        "plt.xlabel('длина чашелистика (стандартизованная)')\n",
        "plt.ylabel('длина лепестка (стандартизованная)')\n",
        "plt.legend(loc='upper left')\n",
        "plt.show()\n",
        "plt.plot(range(1, len(ada.cost_) + 1), ada.cost_, marker='o')\n",
        "plt.xlabel('Epoches')\n",
        "plt.ylabel('SSE')\n",
        "plt.show()"
      ],
      "execution_count": 30,
      "outputs": [
        {
          "output_type": "stream",
          "text": [
            "*c* argument looks like a single numeric RGB or RGBA sequence, which should be avoided as value-mapping will have precedence in case its length matches with *x* & *y*.  Please use the *color* keyword-argument or provide a 2-D array with a single row if you intend to specify the same RGB or RGBA value for all points.\n",
            "*c* argument looks like a single numeric RGB or RGBA sequence, which should be avoided as value-mapping will have precedence in case its length matches with *x* & *y*.  Please use the *color* keyword-argument or provide a 2-D array with a single row if you intend to specify the same RGB or RGBA value for all points.\n"
          ],
          "name": "stderr"
        },
        {
          "output_type": "display_data",
          "data": {
            "image/png": "[encoded data removed]",
            "text/plain": [
              "<Figure size 432x288 with 1 Axes>"
            ]
          },
          "metadata": {
            "tags": [],
            "needs_background": "light"
          }
        },
        {
          "output_type": "display_data",
          "data": {
            "image/png": "[encoded data removed]",
            "text/plain": [
              "<Figure size 432x288 with 1 Axes>"
            ]
          },
          "metadata": {
            "tags": [],
            "needs_background": "light"
          }
        }
      ]
    },
    {
      "cell_type": "code",
      "metadata": {
        "id": "EVcfzT3aED_J"
      },
      "source": [
        ""
      ],
      "execution_count": null,
      "outputs": []
    }
  ]
}