{
  "nbformat": 4,
  "nbformat_minor": 0,
  "metadata": {
    "colab": {
      "name": "IrisFlower_sklearn_Perceptron.ipynb",
      "provenance": [],
      "collapsed_sections": [
        "7Mhk-NldleiB",
        "3Z7hQjBMbvJj",
        "8ZTYu7icdO0r",
        "UzbfCxdxduGv",
        "Cu-EfQAIfMeb",
        "OeQgJdmXg6pZ"
      ],
      "authorship_tag": "ABX9TyNQZqZsocJp0APqhpN/IR2x",
      "include_colab_link": true
    },
    "kernelspec": {
      "name": "python3",
      "display_name": "Python 3"
    }
  },
  "cells": [
    {
      "cell_type": "markdown",
      "metadata": {
        "id": "view-in-github",
        "colab_type": "text"
      },
      "source": [
        "<a href=\"https://colab.research.google.com/github/Lipkoffsky/ML_pet_projects/blob/main/IrisFlower_sklearn_Perceptron.ipynb\" target=\"_parent\"><img src=\"https://colab.research.google.com/assets/colab-badge.svg\" alt=\"Open In Colab\"/></a>"
      ]
    },
    {
      "cell_type": "markdown",
      "metadata": {
        "id": "7Mhk-NldleiB"
      },
      "source": [
        "## scikit-learn Perceptron "
      ]
    },
    {
      "cell_type": "markdown",
      "metadata": {
        "id": "XVxNP8AfawWm"
      },
      "source": [
        "Загружаем датасет Ирисы Фишера из библиотеки scikit-learn\n",
        "Для визуализации возьмем в матрицу признаков **X** только два признака: длину и ширину лепестка\n",
        "\n",
        "Целевые значения запишем в вектор **y**\n",
        "\n"
      ]
    },
    {
      "cell_type": "code",
      "metadata": {
        "id": "Mnkmqkj_ZIAR"
      },
      "source": [
        "from sklearn import datasets\n",
        "import numpy as np\n",
        "\n",
        "iris = datasets.load_iris()\n",
        "X = iris.data[:, [2, 3]] # Берем только длину и ширину лепестка\n",
        "y = iris.target # целевые значения - класс цветка"
      ],
      "execution_count": 18,
      "outputs": []
    },
    {
      "cell_type": "markdown",
      "metadata": {
        "id": "dv8bTwLgbT5y"
      },
      "source": [
        "Разделим датасет на тренировочную и тестовую выборки с помощью фукнции train_test_split из библиотеки sklearn\n",
        "\n",
        "Размер тестовой выборки - 30%\n",
        "\n",
        "Размер тренировочной - 70%"
      ]
    },
    {
      "cell_type": "code",
      "metadata": {
        "id": "rdyWxO8ZaBae"
      },
      "source": [
        "#Разделяем наш датасет на тестовую и тренировочную части\n",
        "from sklearn.model_selection import train_test_split\n",
        "X_train, X_test, y_train, y_test = train_test_split(\n",
        "                                    X, y, test_size=0.3, random_state=0)"
      ],
      "execution_count": 19,
      "outputs": []
    },
    {
      "cell_type": "markdown",
      "metadata": {
        "id": "3Z7hQjBMbvJj"
      },
      "source": [
        "# Стандартизация\n",
        "\n",
        "Стандартизируем данные с помощью класса StandardScaler из модуля preprocessing библиотеки scikit-learn"
      ]
    },
    {
      "cell_type": "code",
      "metadata": {
        "id": "qRSfD8JgakJ5"
      },
      "source": [
        "from sklearn.preprocessing import StandardScaler\n",
        "sc = StandardScaler()\n",
        "sc.fit(X_train) # вычисляем эмпирическое среднее и стандартное отклонение\n",
        "X_train_std = sc.transform(X_train)\n",
        "X_test_std = sc.transform(X_test)"
      ],
      "execution_count": 20,
      "outputs": []
    },
    {
      "cell_type": "markdown",
      "metadata": {
        "id": "8ZTYu7icdO0r"
      },
      "source": [
        "# Обучение"
      ]
    },
    {
      "cell_type": "code",
      "metadata": {
        "colab": {
          "base_uri": "https://localhost:8080/"
        },
        "id": "WQOOfeztc6Mx",
        "outputId": "83ac28a4-5665-486f-9e12-2f14520849bd"
      },
      "source": [
        "from sklearn.linear_model import Perceptron\n",
        "ppn = Perceptron(max_iter=40, eta0=0.1, random_state=0)\n",
        "ppn.fit(X_train_std, y_train)"
      ],
      "execution_count": 25,
      "outputs": [
        {
          "output_type": "execute_result",
          "data": {
            "text/plain": [
              "Perceptron(alpha=0.0001, class_weight=None, early_stopping=False, eta0=0.1,\n",
              "           fit_intercept=True, max_iter=40, n_iter_no_change=5, n_jobs=None,\n",
              "           penalty=None, random_state=0, shuffle=True, tol=0.001,\n",
              "           validation_fraction=0.1, verbose=0, warm_start=False)"
            ]
          },
          "metadata": {
            "tags": []
          },
          "execution_count": 25
        }
      ]
    },
    {
      "cell_type": "markdown",
      "metadata": {
        "id": "UzbfCxdxduGv"
      },
      "source": [
        "# Прогнозирование"
      ]
    },
    {
      "cell_type": "code",
      "metadata": {
        "colab": {
          "base_uri": "https://localhost:8080/"
        },
        "id": "u6W4bn7PdzJ2",
        "outputId": "b0280728-b52d-48b0-f4bc-6022b0ecee96"
      },
      "source": [
        "y_pred = ppn.predict(X_test_std)\n",
        "print('Число ошибочно классифицированных образцов: %d'%(y_test != y_pred).sum())"
      ],
      "execution_count": 26,
      "outputs": [
        {
          "output_type": "stream",
          "text": [
            "Число ошибочно классифицированных образцов: 5\n"
          ],
          "name": "stdout"
        }
      ]
    },
    {
      "cell_type": "markdown",
      "metadata": {
        "id": "Cu-EfQAIfMeb"
      },
      "source": [
        "# Оценка правильности прогноза"
      ]
    },
    {
      "cell_type": "code",
      "metadata": {
        "colab": {
          "base_uri": "https://localhost:8080/"
        },
        "id": "3VZRO6vvfE_D",
        "outputId": "04e41a5f-fd9e-47a7-f010-3e498060c813"
      },
      "source": [
        "from sklearn.metrics import accuracy_score\n",
        "print('Точность: %.2f' % accuracy_score(y_test, y_pred))"
      ],
      "execution_count": 27,
      "outputs": [
        {
          "output_type": "stream",
          "text": [
            "Точность: 0.89\n"
          ],
          "name": "stdout"
        }
      ]
    },
    {
      "cell_type": "markdown",
      "metadata": {
        "id": "OeQgJdmXg6pZ"
      },
      "source": [
        "# Построение графика"
      ]
    },
    {
      "cell_type": "markdown",
      "metadata": {
        "id": "I-__iAYxgDej"
      },
      "source": [
        "Вспомогательная функция для отображения зон решения"
      ]
    },
    {
      "cell_type": "code",
      "metadata": {
        "id": "__HDpwcafo9q"
      },
      "source": [
        "from matplotlib.colors import ListedColormap\n",
        "\n",
        "def plot_decision_regions(X, y, classifier, test_idx=None, resolution=0.02):\n",
        "    '''Отобразить границы решений для двумерных наборов данных'''\n",
        "\n",
        "    # Настройка генератора маркеров и палитры\n",
        "    markers = ('s', 'x', 'o', '^', 'v')\n",
        "    colors = ('red', 'blue', 'lightgreen', 'purple', 'cyan')\n",
        "    cmap = ListedColormap(colors[:len(np.unique(y))])\n",
        "\n",
        "    # Вывод поверхности решения\n",
        "    x1_min, x1_max = X[:, 0].min()-1, X[:, 0].max()+1\n",
        "    x2_min, x2_max = X[:, 1].min()-1, X[:, 1].max()+1\n",
        "    xx1, xx2 = np.meshgrid(np.arange(x1_min, x1_max, resolution)\n",
        "                          ,np.arange(x2_min, x2_max, resolution))\n",
        "    Z = classifier.predict(np.array([xx1.ravel(), xx2.ravel()]).T)\n",
        "    Z = Z.reshape(xx1.shape)\n",
        "\n",
        "    plt.contourf(xx1, xx2, Z, alpha=0.4, cmap=cmap)\n",
        "    plt.xlim(xx1.min(), xx1.max())\n",
        "    plt.ylim(xx2.min(), xx2.max())\n",
        "\n",
        "        # выделить тестовые образы\n",
        "    if test_idx:\n",
        "        X_test, y_test = X[test_idx, :], y[test_idx]\n",
        "        plt.scatter(X_test[:, 0], X_test[:, 1], c='black'\n",
        "                        , alpha=1.0, linewidths=1, marker='o'\n",
        "                        , s=55, label='тестовый набор')\n",
        "    # показать образцы классов\n",
        "    for idx, cl in enumerate(np.unique(y)):\n",
        "        plt.scatter(x=X[y == cl, 0], y=X[y == cl, 1]\n",
        "                   ,alpha=0.8, c=cmap(idx)\n",
        "                   ,marker=markers[idx], label=cl)\n"
      ],
      "execution_count": 49,
      "outputs": []
    },
    {
      "cell_type": "code",
      "metadata": {
        "colab": {
          "base_uri": "https://localhost:8080/",
          "height": 352
        },
        "id": "GvfAPDrHg_GQ",
        "outputId": "031fa77c-4c99-4eea-e5be-f26e11b5f611"
      },
      "source": [
        "import matplotlib.pyplot as plt\n",
        "\n",
        "X_combined_std = np.vstack((X_train_std, X_test_std))\n",
        "y_combined_std = np.hstack((y_train, y_test))\n",
        "plot_decision_regions(X=X_combined_std, y=y_combined_std\n",
        "                      ,classifier=ppn, test_idx=range(105, 150))\n",
        "plt.xlabel('длина лепестка (стандартизованная)')\n",
        "plt.ylabel('ширина лепестка (стандартизованная)')\n",
        "plt.legend(loc='upper left')\n",
        "plt.show()"
      ],
      "execution_count": 53,
      "outputs": [
        {
          "output_type": "stream",
          "text": [
            "*c* argument looks like a single numeric RGB or RGBA sequence, which should be avoided as value-mapping will have precedence in case its length matches with *x* & *y*.  Please use the *color* keyword-argument or provide a 2-D array with a single row if you intend to specify the same RGB or RGBA value for all points.\n",
            "*c* argument looks like a single numeric RGB or RGBA sequence, which should be avoided as value-mapping will have precedence in case its length matches with *x* & *y*.  Please use the *color* keyword-argument or provide a 2-D array with a single row if you intend to specify the same RGB or RGBA value for all points.\n",
            "*c* argument looks like a single numeric RGB or RGBA sequence, which should be avoided as value-mapping will have precedence in case its length matches with *x* & *y*.  Please use the *color* keyword-argument or provide a 2-D array with a single row if you intend to specify the same RGB or RGBA value for all points.\n"
          ],
          "name": "stderr"
        },
        {
          "output_type": "display_data",
          "data": {
            "image/png": "[encoded data removed]",
            "text/plain": [
              "<Figure size 432x288 with 1 Axes>"
            ]
          },
          "metadata": {
            "tags": [],
            "needs_background": "light"
          }
        }
      ]
    },
    {
      "cell_type": "code",
      "metadata": {
        "id": "lrDubhr4iBVq"
      },
      "source": [
        ""
      ],
      "execution_count": null,
      "outputs": []
    }
  ]
}