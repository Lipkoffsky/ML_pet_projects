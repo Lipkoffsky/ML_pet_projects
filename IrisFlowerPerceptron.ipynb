{
  "nbformat": 4,
  "nbformat_minor": 0,
  "metadata": {
    "colab": {
      "name": "IrisFlowerPerceptron.ipynb",
      "provenance": [],
      "collapsed_sections": [
        "d-swSZs3ogun"
      ],
      "authorship_tag": "ABX9TyM86oT5zA21u8f1qij6zm1Z",
      "include_colab_link": true
    },
    "kernelspec": {
      "name": "python3",
      "display_name": "Python 3"
    },
    "accelerator": "GPU"
  },
  "cells": [
    {
      "cell_type": "markdown",
      "metadata": {
        "id": "view-in-github",
        "colab_type": "text"
      },
      "source": [
        "<a href=\"https://colab.research.google.com/github/Lipkoffsky/ML_pet_projects/blob/main/IrisFlowerPerceptron.ipynb\" target=\"_parent\"><img src=\"https://colab.research.google.com/assets/colab-badge.svg\" alt=\"Open In Colab\"/></a>"
      ]
    },
    {
      "cell_type": "markdown",
      "metadata": {
        "id": "7amnmmz_ols3"
      },
      "source": [
        "# **Импорт датасета Ирисы Фишера**"
      ]
    },
    {
      "cell_type": "code",
      "metadata": {
        "id": "-4p9EeXwiZkO"
      },
      "source": [
        "import pandas as pd\n",
        "url = 'https://archive.ics.uci.edu/ml/machine-learning-databases/iris/iris.data'\n",
        "df = pd.read_csv(url, header=None)"
      ],
      "execution_count": 2,
      "outputs": []
    },
    {
      "cell_type": "markdown",
      "metadata": {
        "id": "-lNnMnaPkTea"
      },
      "source": [
        "# Реализация Персептрона"
      ]
    },
    {
      "cell_type": "code",
      "metadata": {
        "id": "IaOGC_XQpPZf"
      },
      "source": [
        "import numpy as np"
      ],
      "execution_count": 3,
      "outputs": []
    },
    {
      "cell_type": "code",
      "metadata": {
        "id": "fjtFDffaktxv"
      },
      "source": [
        "class Perceptron(object):\n",
        "    \"\"\"Классификатор на основе персептрона.\n",
        "\n",
        "    Параметры \n",
        "    ---------\n",
        "    eta : float\n",
        "        Темп обучения между 0.0 и 1.0\n",
        "    n_iter: int\n",
        "        Проходы по тренировочному набору данных\n",
        "\n",
        "    Атрибуты\n",
        "    --------\n",
        "    w_ : array(1,n)\n",
        "        Весовые коэффициенты после подгонки\n",
        "    errors_ : list\n",
        "        Число случаев ошибочной классификации в каждой эпохе\n",
        "    \"\"\"\n",
        "\n",
        "    def __init__(self, eta=0.01, n_iter=10):\n",
        "        self.eta = eta\n",
        "        self.n_iter = n_iter\n",
        "\n",
        "    def fit(self, X, y):\n",
        "        '''Выполнить подгонку модели под тренировочные данные\n",
        "        \n",
        "        Параметры\n",
        "        ---------\n",
        "        X : array(n_samples, n_features)\n",
        "            Тренировочные векторы, где \n",
        "            n_samples - число образцов\n",
        "            n_features - число признаков\n",
        "        y : array(n_samples)\n",
        "            Целевые значения\n",
        "\n",
        "        Return\n",
        "        ------\n",
        "        self.object\n",
        "\n",
        "        '''\n",
        "\n",
        "        # Инициализация весов и списка ошибок\n",
        "        self.w_ = np.zeros(1 + X.shape[1])\n",
        "        self.errors_ = []\n",
        "\n",
        "        # Подгонка\n",
        "        for _ in range(self.n_iter):\n",
        "            errors = 0\n",
        "            for xi, target in zip(X, y):\n",
        "                update = self.eta * (target - self.predict(xi))\n",
        "                self.w_[1:] += update*xi\n",
        "                self.w_[0]  += update\n",
        "                errors      += int(update != 0.0)\n",
        "            self.errors_.append(errors)\n",
        "        return self\n",
        "\n",
        "    def net_input(self, X):\n",
        "        '''Рассчитать чистый вход'''\n",
        "        return np.dot(X, self.w_[1:]) + self.w_[0]\n",
        "\n",
        "    def predict(self, X):\n",
        "        '''Вернуть метку класса после единичного скачка'''\n",
        "        return np.where(self.net_input(X) >= 0.0, 1, -1)\n",
        "        "
      ],
      "execution_count": 4,
      "outputs": []
    },
    {
      "cell_type": "markdown",
      "metadata": {
        "id": "d-swSZs3ogun"
      },
      "source": [
        "# ***Тренировка персептрона***\n",
        "\n",
        "Выделим 1-50 меток класса ( Iris Versicolor) они будут соответствовать значению 1\n",
        "Следующие 50-100 (Iris Setosa) будут соответствовать -1\n",
        "\n",
        "Обучать будем по двум параметрам: по длине чашелистика и по длине лепестка"
      ]
    },
    {
      "cell_type": "code",
      "metadata": {
        "id": "bFg1Z-A-qZvW"
      },
      "source": [
        "import matplotlib.pyplot as plt\n",
        "import numpy as np"
      ],
      "execution_count": 5,
      "outputs": []
    },
    {
      "cell_type": "code",
      "metadata": {
        "id": "QSscnpgcrSdy",
        "colab": {
          "base_uri": "https://localhost:8080/",
          "height": 279
        },
        "outputId": "1580fd3d-5112-468d-f13e-99d2a53da71f"
      },
      "source": [
        "y = df.iloc[0:100, 4].values\n",
        "y = np.where(y == 'Iris-setosa', -1, 1)\n",
        "X = df.iloc[0:100, [0, 2]].values\n",
        "\n",
        "plt.scatter(X[:50, 0], X[:50, 1], color='red'\n",
        "            , marker='o', label='Щетинистый')\n",
        "plt.scatter(X[50:100, 0], X[50:100, 1], color='green'\n",
        "            , marker='x', label='Разноцветный')\n",
        "plt.xlabel('длина чашелистика')\n",
        "plt.ylabel('длина лепестка')\n",
        "plt.legend(loc='upper left')\n",
        "plt.show()"
      ],
      "execution_count": 6,
      "outputs": [
        {
          "output_type": "display_data",
          "data": {
            "image/png": "[encoded data removed]",
            "text/plain": [
              "<Figure size 432x288 with 1 Axes>"
            ]
          },
          "metadata": {
            "tags": [],
            "needs_background": "light"
          }
        }
      ]
    },
    {
      "cell_type": "markdown",
      "metadata": {
        "id": "DBOr0wq5t1yy"
      },
      "source": [
        "*Обучение*"
      ]
    },
    {
      "cell_type": "code",
      "metadata": {
        "colab": {
          "base_uri": "https://localhost:8080/",
          "height": 279
        },
        "id": "6JRDfCIUtkC2",
        "outputId": "0e0c4234-e885-4cd1-94ad-8a13e6c1e969"
      },
      "source": [
        "ppn = Perceptron(eta=0.1, n_iter=10)\n",
        "ppn.fit(X,y)\n",
        "plt.plot(range(1,len(ppn.errors_) + 1), ppn.errors_, marker='o')\n",
        "plt.xlabel('Epoches')\n",
        "plt.ylabel('Errors')\n",
        "plt.show()"
      ],
      "execution_count": 7,
      "outputs": [
        {
          "output_type": "display_data",
          "data": {
            "image/png": "[encoded data removed]",
            "text/plain": [
              "<Figure size 432x288 with 1 Axes>"
            ]
          },
          "metadata": {
            "tags": [],
            "needs_background": "light"
          }
        }
      ]
    },
    {
      "cell_type": "markdown",
      "metadata": {
        "id": "_4GsJD8gvNvJ"
      },
      "source": [
        "Вспомогательные функции"
      ]
    },
    {
      "cell_type": "code",
      "metadata": {
        "id": "G_FyPlL9vIjd"
      },
      "source": [
        "from matplotlib.colors import ListedColormap\n",
        "\n",
        "def plot_decision_regions(X, y, classifier, resolution=0.02):\n",
        "    '''Отобразить границы решений для двумерных наборов данных'''\n",
        "\n",
        "    # Настройка генератора маркеров и палитры\n",
        "    markers = ('s', 'x', 'o', '^', 'v')\n",
        "    colors = ('red', 'blue', 'lightgreen', 'gray', 'cyan')\n",
        "    cmap = ListedColormap(colors[:len(np.unique(y))])\n",
        "\n",
        "    # Вывод поверхности решения\n",
        "    x1_min, x1_max = X[:, 0].min()-1, X[:, 0].max()+1\n",
        "    x2_min, x2_max = X[:, 1].min()-1, X[:, 1].max()+1\n",
        "    xx1, xx2 = np.meshgrid(np.arange(x1_min, x1_max, resolution)\n",
        "                          ,np.arange(x2_min, x2_max, resolution))\n",
        "    Z = classifier.predict(np.array([xx1.ravel(), xx2.ravel()]).T)\n",
        "    Z = Z.reshape(xx1.shape)\n",
        "\n",
        "    plt.contourf(xx1, xx2, Z, alpha=0.4, cmap=cmap)\n",
        "    plt.xlim(xx1.min(), xx1.max())\n",
        "    plt.ylim(xx2.min(), xx2.max())\n",
        "\n",
        "    # показать образцы классов\n",
        "    for idx, cl in enumerate(np.unique(y)):\n",
        "        plt.scatter(x=X[y == cl, 0], y=X[y == cl, 1]\n",
        "                   ,alpha=0.8, c=cmap(idx)\n",
        "                   ,marker=markers[idx], label=cl)"
      ],
      "execution_count": 15,
      "outputs": []
    },
    {
      "cell_type": "code",
      "metadata": {
        "colab": {
          "base_uri": "https://localhost:8080/",
          "height": 334
        },
        "id": "8VFr2QJ7ufRJ",
        "outputId": "870819b9-3da5-44b3-8616-5c6f6957f915"
      },
      "source": [
        "plot_decision_regions(X, y, classifier=ppn)\n",
        "plt.xlabel('длина чашелистика [см]')\n",
        "plt.ylabel('длина лепестка [см]')\n",
        "plt.legend(loc='upper left')\n",
        "plt.show()"
      ],
      "execution_count": 16,
      "outputs": [
        {
          "output_type": "stream",
          "text": [
            "*c* argument looks like a single numeric RGB or RGBA sequence, which should be avoided as value-mapping will have precedence in case its length matches with *x* & *y*.  Please use the *color* keyword-argument or provide a 2-D array with a single row if you intend to specify the same RGB or RGBA value for all points.\n",
            "*c* argument looks like a single numeric RGB or RGBA sequence, which should be avoided as value-mapping will have precedence in case its length matches with *x* & *y*.  Please use the *color* keyword-argument or provide a 2-D array with a single row if you intend to specify the same RGB or RGBA value for all points.\n"
          ],
          "name": "stderr"
        },
        {
          "output_type": "display_data",
          "data": {
            "image/png": "[encoded data removed]",
            "text/plain": [
              "<Figure size 432x288 with 1 Axes>"
            ]
          },
          "metadata": {
            "tags": [],
            "needs_background": "light"
          }
        }
      ]
    },
    {
      "cell_type": "code",
      "metadata": {
        "id": "r2k87oE1zVlU"
      },
      "source": [
        ""
      ],
      "execution_count": null,
      "outputs": []
    }
  ]
}